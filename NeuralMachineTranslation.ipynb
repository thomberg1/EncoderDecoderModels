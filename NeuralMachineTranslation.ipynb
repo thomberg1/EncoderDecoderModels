{
 "cells": [
  {
   "cell_type": "markdown",
   "metadata": {},
   "source": [
    "<b>Neural Machine Translation</b>\n",
    "\n",
    "This implementation follows Keon's <a href=\"https://github.com/keon/seq2seq/blob/master/model.py\">\"Minimal Seq2Seq model with Attention for Neural Machine Translation in PyTorch\"</a>.\n",
    "\n",
    "The dataset can be downloaded from <a href=\"http://www.manythings.org/anki/\">Tatoeba Project: Tab-delimited Bilingual Sentence Pairs</a>. The file is names \"deu-eng.zip\" (German-English) and contains deu.txt, which needs to be converted to a tsv and the english/german columns need to be swapped. The file should be called \"eng-ger-data.tsv\" and located in \".data\" or the reference below in the torch TabularDataset statement needs to be changed."
   ]
  },
  {
   "cell_type": "code",
   "execution_count": 1,
   "metadata": {},
   "outputs": [
    {
     "name": "stdout",
     "output_type": "stream",
     "text": [
      "tb 2018-09-27 \n",
      "\n",
      "CPython 3.6.4\n",
      "IPython 6.2.1\n",
      "\n",
      "sys 3.6.4 |Anaconda custom (64-bit)| (default, Jan 16 2018, 12:04:33) \n",
      "[GCC 4.2.1 Compatible Clang 4.0.1 (tags/RELEASE_401/final)]\n",
      "numpy 1.14.2\n",
      "pandas 0.22.0\n",
      "sklearn 0.19.2\n",
      "torch 0.4.0a0+9692519\n",
      "IPython 6.2.1\n",
      "\n",
      "compiler   : GCC 4.2.1 Compatible Clang 4.0.1 (tags/RELEASE_401/final)\n",
      "system     : Darwin\n",
      "release    : 17.5.0\n",
      "machine    : x86_64\n",
      "processor  : i386\n",
      "CPU cores  : 24\n",
      "interpreter: 64bit\n",
      "\n",
      "GPU Name: TITAN Xp\n",
      "GPU Memory: 12.0GB\n",
      "CUDA Version: (9, 1, 0)\n",
      "GPU Free/Total Memory: 84%\n"
     ]
    }
   ],
   "source": [
    "%matplotlib inline\n",
    "import matplotlib.pyplot as plt\n",
    "\n",
    "import random\n",
    "\n",
    "from tqdm import tqdm_notebook\n",
    "import numpy as np\n",
    "import math\n",
    "\n",
    "import torch\n",
    "import torch.nn as nn\n",
    "from torch.autograd import Variable\n",
    "from torch import optim\n",
    "import torch.nn.functional as F\n",
    "\n",
    "import torchtext\n",
    "from torchtext.data import Field\n",
    "\n",
    "from utils import *\n",
    "\n",
    "# used to suppress \"UserWarning: volatile was removed and now has no effect. Use `with torch.no_grad()\"\n",
    "# import warnings\n",
    "# warnings.filterwarnings(\"ignore\" ,category=FutureWarning)\n",
    "\n",
    "%load_ext watermark\n",
    "%watermark -a \"tb\" -d -v -m -p sys,numpy,pandas,sklearn,torch,IPython\n",
    "gpu_stat()"
   ]
  },
  {
   "cell_type": "code",
   "execution_count": 2,
   "metadata": {},
   "outputs": [],
   "source": [
    "#torch.cuda.is_available = lambda : False\n",
    "#torch.backends.cudnn.enabled=False\n",
    "torch.backends.cudnn.deterministic = True"
   ]
  },
  {
   "cell_type": "code",
   "execution_count": 3,
   "metadata": {},
   "outputs": [],
   "source": [
    "seed = 0\n",
    "np.random.seed(0)\n",
    "torch.manual_seed(seed)\n",
    "if torch.cuda.is_available():\n",
    "    torch.cuda.manual_seed(seed)"
   ]
  },
  {
   "cell_type": "code",
   "execution_count": 4,
   "metadata": {},
   "outputs": [],
   "source": [
    "H = HYPERPARAMETERS({\n",
    "    'seq_max_len' :         50,\n",
    "    'src_vocab_max_size' :  50000,\n",
    "    'tgt_vocab_max_size' :  50000,\n",
    "    'src_field_name' :      'src',\n",
    "    'tgt_field_name' :      'tgt',\n",
    "\n",
    "    'embedding_size' :      256,\n",
    "    'hidden_size' :         256,\n",
    "    'n_layers' :            2,\n",
    "    'n_epochs' :            10,\n",
    "    'batch_size' :          128,\n",
    "    'max_grad_norm' :       5,\n",
    "    'teacher_forcing_ratio':0.5,\n",
    "    'embedding_dropout' :   0.5,\n",
    "    'rnn_dropout' :         0.5,\n",
    "\n",
    "    'SYM_SOS' :             '<sos>',\n",
    "    'SYM_EOS' :             '<eos>',\n",
    "    'SYM_PAD' :             '<pad>',\n",
    "    'IDX_SOS' :             -1,\n",
    "    'IDX_EOS' :             -1,\n",
    "    'IDX_PAD' :             -1,\n",
    "    'device' :                None if torch.cuda.is_available() else -1\n",
    "})"
   ]
  },
  {
   "cell_type": "code",
   "execution_count": 5,
   "metadata": {},
   "outputs": [],
   "source": [
    "import spacy\n",
    "\n",
    "spacy_en = spacy.load('en')\n",
    "spacy_de = spacy.load('de')\n",
    "\n",
    "def tokenize_en(text):\n",
    "    return [tok.text for tok in spacy_en.tokenizer( text )]\n",
    "    return text.split()\n",
    "\n",
    "def tokenize_de(text):\n",
    "    return [tok.text for tok in spacy_de.tokenizer(text)]\n",
    "    return text.split()\n",
    "\n",
    "preproc = lambda seq: [H.SYM_SOS] + seq + [H.SYM_EOS]\n",
    "\n",
    "src = Field(sequential=True, tokenize=tokenize_en, lower=True, batch_first=True, include_lengths=True)\n",
    "tgt = Field(sequential=True, tokenize=tokenize_de, lower=True, batch_first=True, preprocessing=preproc)"
   ]
  },
  {
   "cell_type": "code",
   "execution_count": 6,
   "metadata": {},
   "outputs": [],
   "source": [
    "def len_filter(example):\n",
    "    return len(example.src) <= H.seq_max_len and len(example.tgt) <= H.seq_max_len\n",
    "\n",
    "train_data, valid_data, test_data= torchtext.data.TabularDataset(\n",
    "    path=\"./data/eng-ger-data.tsv\", format='tsv',\n",
    "    fields=[(H.src_field_name, src), (H.tgt_field_name, tgt)],\n",
    "    filter_pred=len_filter\n",
    "    ).split(split_ratio=[0.8, 0.1, 0.1])"
   ]
  },
  {
   "cell_type": "code",
   "execution_count": 7,
   "metadata": {},
   "outputs": [],
   "source": [
    "src.build_vocab(train_data, max_size=H.src_vocab_max_size, min_freq=2)\n",
    "tgt.build_vocab(train_data, max_size=H.tgt_vocab_max_size, min_freq=2)\n",
    "\n",
    "input_vocab = src.vocab\n",
    "output_vocab = tgt.vocab\n",
    "\n",
    "H.IDX_SOS = output_vocab.stoi[H.SYM_SOS]\n",
    "H.IDX_EOS = output_vocab.stoi[H.SYM_EOS]\n",
    "H.IDX_PAD = output_vocab.stoi[H.SYM_PAD]"
   ]
  },
  {
   "cell_type": "code",
   "execution_count": 8,
   "metadata": {},
   "outputs": [
    {
     "name": "stdout",
     "output_type": "stream",
     "text": [
      "torch.Size([128, 6]) torch.Size([128]) torch.Size([128, 12])\n",
      "['where', \"'re\", 'tom', \"'s\", 'things', '?']\n",
      "len: 6\n",
      "['<sos>', 'wo', 'sind', 'toms', 'sachen', '?', '<eos>', '<pad>', '<pad>', '<pad>', '<pad>', '<pad>']\n"
     ]
    },
    {
     "data": {
      "text/plain": [
       "(1058, 133, 133)"
      ]
     },
     "execution_count": 8,
     "metadata": {},
     "output_type": "execute_result"
    }
   ],
   "source": [
    "train_iter, valid_iter, test_iter = torchtext.data.BucketIterator.splits(\n",
    "                                (train_data, valid_data, test_data), \n",
    "                                batch_size=H.batch_size, device=H.device, repeat=False, \n",
    "                                sort=False, sort_within_batch=True, sort_key=lambda x: len(x.src))\n",
    "\n",
    "\n",
    "batch = next(train_iter.__iter__())\n",
    "input_variables = getattr(batch, 'src')\n",
    "target_variables = getattr(batch, 'tgt')\n",
    "\n",
    "print(input_variables[0].shape, input_variables[1].shape, target_variables.shape)\n",
    "print([input_vocab.itos[ni] for ni in input_variables[0][0].cpu()])\n",
    "print(\"len:\", input_variables[1][0].item())\n",
    "print([output_vocab.itos[ni] for ni in target_variables[0].cpu()])\n",
    "\n",
    "len(train_iter), len(valid_iter), len(test_iter)"
   ]
  },
  {
   "cell_type": "code",
   "execution_count": 9,
   "metadata": {},
   "outputs": [],
   "source": [
    "class EncoderRNN(nn.Module):\n",
    "    def __init__(self, vocab_size, embedding_size, hidden_size, n_layers=1, bidirectional = True, \n",
    "                 embedding_dropout=0, rnn_dropout=0):\n",
    "        super(EncoderRNN, self).__init__()\n",
    "        self.vocab_size = vocab_size\n",
    "        self.embedding_size = embedding_size\n",
    "        self.hidden_size = hidden_size\n",
    "        self.n_layers = n_layers\n",
    "        self.bidirectional = bidirectional\n",
    "        self.embedding_dropout = embedding_dropout\n",
    "        self.rnn_dropout = rnn_dropout\n",
    "\n",
    "        self.embedding = nn.Sequential(\n",
    "            nn.Embedding(self.vocab_size, self.embedding_size),\n",
    "            nn.Dropout(self.embedding_dropout) \n",
    "        )\n",
    "        \n",
    "        self.rnn = nn.GRU(self.embedding_size, self.hidden_size, self.n_layers, \n",
    "                          batch_first=True, bidirectional=self.bidirectional, dropout=self.rnn_dropout)\n",
    "        \n",
    "        self.init_weights()\n",
    "\n",
    "    def forward(self, input_var, hidden=None):\n",
    "        \n",
    "        embedded = self.embedding(input_var) \n",
    "        \n",
    "        output_var, hidden = self.rnn(embedded, hidden)\n",
    "                \n",
    "        output_var = self._sum_outputs(output_var)\n",
    "        hidden = self._cat_hidden(hidden)\n",
    "        \n",
    "        return output_var, hidden\n",
    "\n",
    "    def _cat_hidden(self, h):\n",
    "        \"\"\" If the encoder is bidirectional, do the following transformation.\n",
    "            (#directions * #layers, #batch, hidden_size) -> (#layers, #batch, #directions * hidden_size)\n",
    "        \"\"\"\n",
    "        if self.bidirectional:\n",
    "            h = torch.cat([h[0:h.size(0):2], h[1:h.size(0):2]], 2)\n",
    "        return h\n",
    "    \n",
    "    def _sum_outputs(self, outputs):\n",
    "        # sum bidirectional outputs\n",
    "        outputs = (outputs[:, :, :self.hidden_size] +\n",
    "                   outputs[:, :, self.hidden_size:])\n",
    "        return outputs\n",
    "\n",
    "    def init_weights(self):\n",
    "        initrange = 0.1\n",
    "        self.embedding[0].weight.data.uniform_(-initrange, initrange)\n",
    "        for param in self.rnn.parameters():\n",
    "            param.data.uniform_(-0.08, 0.08)"
   ]
  },
  {
   "cell_type": "code",
   "execution_count": 10,
   "metadata": {},
   "outputs": [
    {
     "name": "stdout",
     "output_type": "stream",
     "text": [
      "Summary for model: EncoderRNN\n",
      "_________________________________________________________________\n",
      "Layer (type)                 Shape                     Param #   \n",
      "=================================================================\n",
      "embedding.0 (Embedding)      ((9563, 256),)            2448128   \n",
      "_________________________________________________________________\n",
      "embedding.1 (Dropout)        ()                        0         \n",
      "_________________________________________________________________\n",
      "rnn (GRU)                    ((768, 256), (768, 256),  1972224   \n",
      "=================================================================\n",
      "Total params:         4,420,352\n",
      "Trainable params:     4,420,352\n",
      "_________________________________________________________________\n",
      "EncoderRNN(\n",
      "  (embedding): Sequential(\n",
      "    (0): Embedding(9563, 256)\n",
      "    (1): Dropout(p=0.5)\n",
      "  )\n",
      "  (rnn): GRU(256, 256, num_layers=2, batch_first=True, dropout=0.5, bidirectional=True)\n",
      ")\n"
     ]
    },
    {
     "data": {
      "text/plain": [
       "(torch.Size([128, 6]),\n",
       " torch.Size([4, 128, 256]),\n",
       " torch.Size([128, 6, 256]),\n",
       " torch.Size([2, 128, 512]))"
      ]
     },
     "execution_count": 10,
     "metadata": {},
     "output_type": "execute_result"
    }
   ],
   "source": [
    "encoder = EncoderRNN(len(input_vocab), H.embedding_size, H.hidden_size, n_layers=H.n_layers, \n",
    "                                        rnn_dropout=H.rnn_dropout, embedding_dropout=H.embedding_dropout)\n",
    "\n",
    "hidden = Variable(torch.zeros(2*H.n_layers, H.batch_size, H.hidden_size))\n",
    "\n",
    "encoder_output, encoder_hidden = encoder(input_variables[0].cpu(), hidden)\n",
    "\n",
    "print_model_summary(encoder)\n",
    "print(encoder)\n",
    "\n",
    "input_variables[0].shape, hidden.shape, encoder_output.shape, encoder_hidden.shape"
   ]
  },
  {
   "cell_type": "code",
   "execution_count": 11,
   "metadata": {},
   "outputs": [],
   "source": [
    "class DecoderRNN(nn.Module):\n",
    "    def __init__(self, vocab_size, embedding_size, hidden_size, n_layers=1, embedding_dropout=0, rnn_dropout=0):\n",
    "                 \n",
    "        super(DecoderRNN, self).__init__()\n",
    "        self.vocab_size = vocab_size\n",
    "        self.embedding_size = embedding_size\n",
    "        self.hidden_size = hidden_size\n",
    "        self.n_layers = n_layers\n",
    "        self.embedding_dropout = embedding_dropout\n",
    "        self.rnn_dropout = rnn_dropout\n",
    "                \n",
    "        self.embedding = nn.Sequential(\n",
    "            nn.Embedding(self.vocab_size, self.embedding_size),\n",
    "            nn.Dropout(self.embedding_dropout) \n",
    "        )\n",
    "\n",
    "        self.rnn = nn.GRU(self.embedding_size, self.hidden_size, self.n_layers, \n",
    "                          batch_first=True, dropout=self.rnn_dropout)\n",
    "\n",
    "        self.fc = nn.Linear(self.hidden_size, self.vocab_size)\n",
    "        \n",
    "        self.init_weights()\n",
    "        \n",
    "    def forward(self, decoder_input, encoder_hidden):\n",
    "        batch_size, output_size = decoder_input.size(0), decoder_input.size(1)\n",
    "            \n",
    "        embedded = self.embedding(decoder_input)\n",
    "        \n",
    "        output, hidden = self.rnn(embedded, encoder_hidden)\n",
    "        \n",
    "        output = output.contiguous().view(-1, self.hidden_size)\n",
    "        output = self.fc(output)\n",
    "        \n",
    "        output = F.log_softmax(output, dim=1)\n",
    "        output = output.view(batch_size, output_size, -1)\n",
    "        return output, hidden\n",
    "    \n",
    "    def init_weights(self):\n",
    "        initrange = 0.1\n",
    "        self.embedding[0].weight.data.uniform_(-initrange, initrange)\n",
    "        for param in self.rnn.parameters():\n",
    "            param.data.uniform_(-0.08, 0.08)\n",
    "        self.fc.bias.data.zero_()\n",
    "        self.fc.weight.data.uniform_(-initrange, initrange)\n",
    "        "
   ]
  },
  {
   "cell_type": "code",
   "execution_count": 12,
   "metadata": {},
   "outputs": [
    {
     "name": "stdout",
     "output_type": "stream",
     "text": [
      "Summary for model: DecoderRNN\n",
      "_________________________________________________________________\n",
      "Layer (type)                 Shape                     Param #   \n",
      "=================================================================\n",
      "embedding.0 (Embedding)      ((15738, 512),)           8057856   \n",
      "_________________________________________________________________\n",
      "embedding.1 (Dropout)        ()                        0         \n",
      "_________________________________________________________________\n",
      "rnn (GRU)                    ((1536, 512), (1536, 512) 3151872   \n",
      "_________________________________________________________________\n",
      "fc (Linear)                  ((15738, 512), (15738,))  8073594   \n",
      "=================================================================\n",
      "Total params:         19,283,322\n",
      "Trainable params:     19,283,322\n",
      "_________________________________________________________________\n"
     ]
    },
    {
     "data": {
      "text/plain": [
       "(torch.Size([128, 6]), 2, torch.Size([128, 12, 15738]))"
      ]
     },
     "execution_count": 12,
     "metadata": {},
     "output_type": "execute_result"
    }
   ],
   "source": [
    "decoder = DecoderRNN(len(output_vocab), 2 * H.hidden_size, 2 * H.hidden_size, n_layers=H.n_layers, \n",
    "                     rnn_dropout=H.rnn_dropout, embedding_dropout=H.embedding_dropout)\n",
    "\n",
    "decoder.train()\n",
    "decoder_output = decoder(target_variables.cpu(), encoder_hidden)\n",
    "\n",
    "print_model_summary(decoder)\n",
    "\n",
    "input_variables[0].shape, len(decoder_output), decoder_output[0].shape"
   ]
  },
  {
   "cell_type": "code",
   "execution_count": 13,
   "metadata": {},
   "outputs": [],
   "source": [
    "class NMT(nn.Module):\n",
    "    def __init__(self, encoder, decoder, sos_idx, teacher_forcing_ratio=0.5):\n",
    "        super(NMT, self).__init__()\n",
    "        self.encoder = encoder\n",
    "        self.decoder = decoder\n",
    "        self.sos_idx = sos_idx\n",
    "        self.teacher_forcing_ratio = teacher_forcing_ratio\n",
    "\n",
    "    def forward(self, input_var, target_var):\n",
    "\n",
    "        encoder_outputs, encoder_hidden = self.encoder(input_var)\n",
    "                \n",
    "        batch_size = input_var.size(0)\n",
    "        decoder_input = Variable(torch.LongTensor([self.sos_idx] * batch_size)).view(batch_size, 1)\n",
    "        if next(self.parameters()).is_cuda:\n",
    "            decoder_input = decoder_input.cuda()\n",
    "        \n",
    "        decoder_outputs = []\n",
    "        max_length = target_var.size(1) - 1 if not target_var is None else H.seq_max_len\n",
    "        for di in range(max_length):\n",
    "            \n",
    "            decoder_output, decoder_hidden = self.decoder(decoder_input, encoder_hidden)\n",
    "            step_output = decoder_output.squeeze(1)\n",
    "            \n",
    "            decoder_outputs.append(step_output)\n",
    "\n",
    "            use_teacher_forcing = True if self.training and random.random() < self.teacher_forcing_ratio else False       \n",
    "            if use_teacher_forcing:\n",
    "                decoder_input = Variable(target_var.data[:, di+1]).view(batch_size, 1)\n",
    "            else:\n",
    "                decoder_input = Variable(decoder_outputs[-1].topk(1)[1].data).view(batch_size, 1)\n",
    "\n",
    "            if next(self.parameters()).is_cuda:\n",
    "                decoder_input = decoder_input.cuda()\n",
    "                \n",
    "        return decoder_outputs "
   ]
  },
  {
   "cell_type": "code",
   "execution_count": 14,
   "metadata": {},
   "outputs": [
    {
     "name": "stdout",
     "output_type": "stream",
     "text": [
      "Summary for model: NMT\n",
      "_________________________________________________________________\n",
      "Layer (type)                 Shape                     Param #   \n",
      "=================================================================\n",
      "encoder.embedding.0 (Embeddi ((9563, 256),)            2448128   \n",
      "_________________________________________________________________\n",
      "encoder.embedding.1 (Dropout ()                        0         \n",
      "_________________________________________________________________\n",
      "encoder.rnn (GRU)            ((768, 256), (768, 256),  1972224   \n",
      "_________________________________________________________________\n",
      "decoder.embedding.0 (Embeddi ((15738, 512),)           8057856   \n",
      "_________________________________________________________________\n",
      "decoder.embedding.1 (Dropout ()                        0         \n",
      "_________________________________________________________________\n",
      "decoder.rnn (GRU)            ((1536, 512), (1536, 512) 3151872   \n",
      "_________________________________________________________________\n",
      "decoder.fc (Linear)          ((15738, 512), (15738,))  8073594   \n",
      "=================================================================\n",
      "Total params:         23,703,674\n",
      "Trainable params:     23,703,674\n",
      "_________________________________________________________________\n"
     ]
    },
    {
     "data": {
      "text/plain": [
       "NMT(\n",
       "  (encoder): EncoderRNN(\n",
       "    (embedding): Sequential(\n",
       "      (0): Embedding(9563, 256)\n",
       "      (1): Dropout(p=0.5)\n",
       "    )\n",
       "    (rnn): GRU(256, 256, num_layers=2, batch_first=True, dropout=0.5, bidirectional=True)\n",
       "  )\n",
       "  (decoder): DecoderRNN(\n",
       "    (embedding): Sequential(\n",
       "      (0): Embedding(15738, 512)\n",
       "      (1): Dropout(p=0.5)\n",
       "    )\n",
       "    (rnn): GRU(512, 512, num_layers=2, batch_first=True, dropout=0.5)\n",
       "    (fc): Linear(in_features=512, out_features=15738, bias=True)\n",
       "  )\n",
       ")"
      ]
     },
     "execution_count": 14,
     "metadata": {},
     "output_type": "execute_result"
    }
   ],
   "source": [
    "nmt = NMT(encoder, decoder, H.IDX_SOS, teacher_forcing_ratio=H.teacher_forcing_ratio).cuda()\n",
    "\n",
    "nmt.train()\n",
    "result = nmt(input_variables[0], target_variables)\n",
    "\n",
    "print_model_summary(nmt)\n",
    "nmt"
   ]
  },
  {
   "cell_type": "code",
   "execution_count": 15,
   "metadata": {},
   "outputs": [],
   "source": [
    "from tensorflow_bleu import compute_bleu\n",
    "\n",
    "def _eos_parsing(sentence):\n",
    "    if H.IDX_EOS in sentence:\n",
    "        sentence = sentence[:sentence.index(H.IDX_EOS)+1]\n",
    "    if H.IDX_PAD in sentence:\n",
    "        sentence = sentence[:sentence.index(H.IDX_PAD)+1]\n",
    "    return sentence\n",
    "\n",
    "def blue_score(decoder_outputs, target_variables):\n",
    "    batch_size = target_variables.size(0)\n",
    "\n",
    "    output_seq = [[] for _ in range(batch_size)]\n",
    "    for decoder_output in decoder_outputs:\n",
    "        for batch_idx in range(batch_size):\n",
    "            output_seq[batch_idx].append(decoder_output[batch_idx].topk(1)[1].item())\n",
    "\n",
    "    target_seq = [[[]] for _ in range(batch_size)]\n",
    "    for batch_idx in range(batch_size):\n",
    "        target_seq[batch_idx][0] = [i.item() for i in target_variables[batch_idx]][1:-1]\n",
    "\n",
    "    for batch_idx in range(batch_size):\n",
    "        output_seq[batch_idx] = _eos_parsing(output_seq[batch_idx])\n",
    "        target_seq[batch_idx][0] = _eos_parsing(target_seq[batch_idx][0])\n",
    "             \n",
    "    return compute_bleu(target_seq, output_seq, smooth=False)[0]\n",
    "\n",
    "def get_perplexity(loss):\n",
    "    try:\n",
    "        return math.pow(2, loss)\n",
    "    except OverflowError:\n",
    "        return float('inf')"
   ]
  },
  {
   "cell_type": "code",
   "execution_count": 16,
   "metadata": {},
   "outputs": [],
   "source": [
    "encoder = EncoderRNN(len(input_vocab), H.embedding_size, H.hidden_size, n_layers=H.n_layers, \n",
    "                     embedding_dropout=H.embedding_dropout, rnn_dropout=H.rnn_dropout)\n",
    "decoder = DecoderRNN(len(output_vocab), H.embedding_size*2, H.hidden_size*2, n_layers=H.n_layers, \n",
    "                     embedding_dropout=H.embedding_dropout, rnn_dropout=H.rnn_dropout)\n",
    "\n",
    "model = NMT(encoder, decoder, H.IDX_SOS, teacher_forcing_ratio=H.teacher_forcing_ratio)\n",
    "if torch.cuda.is_available():\n",
    "    model.cuda(H.device)\n",
    "\n",
    "criterion = nn.NLLLoss()\n",
    "\n",
    "optimizer = optim.Adam(model.parameters(),\n",
    "                        amsgrad = False,\n",
    "                        betas = (0.9, 0.999),\n",
    "                        eps = 1e-08,\n",
    "                        lr = 0.001,\n",
    "                        weight_decay = 0)"
   ]
  },
  {
   "cell_type": "code",
   "execution_count": 17,
   "metadata": {},
   "outputs": [],
   "source": [
    "train_iter, valid_iter, test_iter = torchtext.data.BucketIterator.splits(\n",
    "                                (train_data, valid_data, test_data), \n",
    "                                batch_size=H.batch_size, device=H.device, repeat=False, \n",
    "                                sort=False, sort_within_batch=True, sort_key=lambda x: len(x.src))"
   ]
  },
  {
   "cell_type": "code",
   "execution_count": 18,
   "metadata": {
    "scrolled": false
   },
   "outputs": [
    {
     "data": {
      "application/vnd.jupyter.widget-view+json": {
       "model_id": "a642baf3ab2148f0bfd34769a5185163",
       "version_major": 2,
       "version_minor": 0
      },
      "text/html": [
       "<p>Failed to display Jupyter Widget of type <code>HBox</code>.</p>\n",
       "<p>\n",
       "  If you're reading this message in the Jupyter Notebook or JupyterLab Notebook, it may mean\n",
       "  that the widgets JavaScript is still loading. If this message persists, it\n",
       "  likely means that the widgets JavaScript library is either not installed or\n",
       "  not enabled. See the <a href=\"https://ipywidgets.readthedocs.io/en/stable/user_install.html\">Jupyter\n",
       "  Widgets Documentation</a> for setup instructions.\n",
       "</p>\n",
       "<p>\n",
       "  If you're reading this message in another frontend (for example, a static\n",
       "  rendering on GitHub or <a href=\"https://nbviewer.jupyter.org/\">NBViewer</a>),\n",
       "  it may mean that your frontend doesn't currently support widgets.\n",
       "</p>\n"
      ],
      "text/plain": [
       "HBox(children=(IntProgress(value=0, max=10), HTML(value='')))"
      ]
     },
     "metadata": {},
     "output_type": "display_data"
    },
    {
     "name": "stderr",
     "output_type": "stream",
     "text": [
      "/anaconda3/lib/python3.6/site-packages/torchtext/data/field.py:321: UserWarning: volatile was removed and now has no effect. Use `with torch.no_grad():` instead.\n",
      "  return Variable(arr, volatile=not train), lengths\n",
      "/anaconda3/lib/python3.6/site-packages/torchtext/data/field.py:322: UserWarning: volatile was removed and now has no effect. Use `with torch.no_grad():` instead.\n",
      "  return Variable(arr, volatile=not train)\n"
     ]
    },
    {
     "name": "stdout",
     "output_type": "stream",
     "text": [
      "\n"
     ]
    }
   ],
   "source": [
    "m = Metric([('train_loss', np.inf), ('valid_loss', np.inf), ('valid_ppl', np.inf), ('valid_score', np.inf)])\n",
    "\n",
    "epoch_itr = tqdm_notebook(range(1, H.n_epochs + 1))\n",
    "for epoch in epoch_itr:\n",
    "    epoch_itr.set_description('Epoch')\n",
    "\n",
    "    model.train(True)\n",
    "\n",
    "    avg_loss = 0.0\n",
    "    for idx_batch, batch in enumerate(train_iter.__iter__()):\n",
    "        \n",
    "        input_variables, input_lengths = getattr(batch, H.src_field_name)\n",
    "        target_variables = getattr(batch, H.tgt_field_name)\n",
    "\n",
    "        decoder_outputs = model(input_variables, target_variables)\n",
    "        \n",
    "        loss = 0\n",
    "        target_length = target_variables.size(1) - 1\n",
    "        for idx_seq in range(target_length):\n",
    "            seq_output = decoder_outputs[idx_seq]\n",
    "            out_batch_size = target_variables.size(0)\n",
    "            loss += criterion(seq_output.contiguous().view(out_batch_size, -1), target_variables[:, idx_seq + 1])\n",
    "\n",
    "        avg_loss += loss.item() / (idx_seq + 1)\n",
    "\n",
    "        optimizer.zero_grad()\n",
    "        loss.backward()\n",
    "        torch.nn.utils.clip_grad_norm_(model.parameters(), H.max_grad_norm)\n",
    "        optimizer.step()\n",
    "                \n",
    "        if not idx_batch % 500:\n",
    "            epoch_itr.set_postfix(epoch=epoch, batch=idx_batch,\n",
    "                                  train_loss=m.train_loss, valid_loss=m.valid_loss,\n",
    "                                  valid_ppl=m.valid_ppl, valid_score=m.valid_score)    \n",
    "            \n",
    "    m.train_loss = avg_loss / (idx_batch + 1)\n",
    "    \n",
    "    model.eval()   # Turn on evaluation mode which disables dropout and teacher_forcing.\n",
    "    with torch.no_grad():\n",
    "        \n",
    "        avg_loss = 0.0\n",
    "        avg_score = 0.0\n",
    "        for idx_batch, batch in enumerate(valid_iter.__iter__()):\n",
    "            input_variables, input_lengths = getattr(batch, H.src_field_name)\n",
    "            target_variables = getattr(batch, H.tgt_field_name)\n",
    "\n",
    "            decoder_outputs = model(input_variables, None)\n",
    "            \n",
    "            loss = 0\n",
    "            target_length = target_variables.size(1) - 1\n",
    "            for idx_seq in range(target_length):\n",
    "                seq_output = decoder_outputs[idx_seq]\n",
    "                loss += criterion(seq_output.contiguous(), target_variables[:, idx_seq + 1])\n",
    "\n",
    "            avg_loss += loss.item() / (idx_seq + 1)\n",
    "            avg_score += blue_score(decoder_outputs, target_variables)\n",
    "            \n",
    "        m.valid_loss = avg_loss / (idx_batch + 1)\n",
    "        m.valid_ppl = get_perplexity(m.valid_loss)\n",
    "        m.valid_score = avg_score / (idx_batch + 1)\n",
    "        \n",
    "    epoch_itr.set_postfix(epoch=epoch, batch=0,\n",
    "                          train_loss=m.train_loss, valid_loss=m.valid_loss,\n",
    "                          valid_ppl=m.valid_ppl, valid_score=m.valid_score)"
   ]
  },
  {
   "cell_type": "code",
   "execution_count": 19,
   "metadata": {},
   "outputs": [
    {
     "data": {
      "image/png": "[encoded data removed]",
      "text/plain": [
       "<matplotlib.figure.Figure at 0x1ad5375b70>"
      ]
     },
     "metadata": {},
     "output_type": "display_data"
    }
   ],
   "source": [
    "plot_learning_curves(m, loss_ylim=(0, 5.0), score_ylim=(0.0, 10.0), figsize=(14,6))"
   ]
  },
  {
   "cell_type": "code",
   "execution_count": 20,
   "metadata": {},
   "outputs": [
    {
     "name": "stderr",
     "output_type": "stream",
     "text": [
      "/anaconda3/lib/python3.6/site-packages/torchtext/data/field.py:321: UserWarning: volatile was removed and now has no effect. Use `with torch.no_grad():` instead.\n",
      "  return Variable(arr, volatile=not train), lengths\n",
      "/anaconda3/lib/python3.6/site-packages/torchtext/data/field.py:322: UserWarning: volatile was removed and now has no effect. Use `with torch.no_grad():` instead.\n",
      "  return Variable(arr, volatile=not train)\n"
     ]
    },
    {
     "name": "stdout",
     "output_type": "stream",
     "text": [
      "Loss:  2.4905223673628756\n",
      "PPL:  5.619813942602337\n",
      "Bleu:  0.1562485560339747\n"
     ]
    }
   ],
   "source": [
    "model.eval()   # Turn on evaluation mode which disables dropout and teacher_forcing.\n",
    "with torch.no_grad():\n",
    "\n",
    "    avg_loss = 0.0\n",
    "    avg_score = 0.0\n",
    "    for idx_batch, batch in enumerate(test_iter.__iter__()):\n",
    "        input_variables, input_lengths = getattr(batch, H.src_field_name)\n",
    "        target_variables = getattr(batch, H.tgt_field_name)\n",
    "\n",
    "        decoder_outputs = model(input_variables, None)\n",
    "\n",
    "        loss = 0\n",
    "        target_length = target_variables.size(1) - 1\n",
    "        for idx_seq in range(target_length):\n",
    "            seq_output = decoder_outputs[idx_seq]\n",
    "            loss += criterion(seq_output.contiguous(), target_variables[:, idx_seq + 1])\n",
    "\n",
    "        avg_loss += loss.item() / (idx_seq + 1)\n",
    "                \n",
    "        avg_score += blue_score(decoder_outputs, target_variables)\n",
    "\n",
    "print(\"Loss: \", avg_loss / (idx_batch + 1))\n",
    "print(\"PPL: \", get_perplexity(avg_loss / (idx_batch + 1)))\n",
    "print(\"Bleu: \", avg_score / (idx_batch + 1))"
   ]
  },
  {
   "cell_type": "code",
   "execution_count": null,
   "metadata": {},
   "outputs": [
    {
     "name": "stdout",
     "output_type": "stream",
     "text": [
      "Type in a source sequence:What's your name?\n",
      ">>  What's your name?\n",
      "['what', \"'s\", 'your', 'name', '?']\n",
      "<<  wie ist dein name ?\n",
      "Type in a source sequence:Where do you live?\n",
      ">>  Where do you live?\n",
      "['where', 'do', 'you', 'live', '?']\n",
      "<<  wo wohnen sie ?\n",
      "Type in a source sequence:Hello\n",
      ">>  Hello\n",
      "['hello']\n",
      "<<  hallo !\n",
      "Type in a source sequence:We are traveling.\n",
      ">>  We are traveling.\n",
      "['we', 'are', 'traveling', '.']\n",
      "<<  wir reisen .\n",
      "Type in a source sequence:This has no effect.\n",
      ">>  This has no effect.\n",
      "['this', 'has', 'no', 'effect', '.']\n",
      "<<  das hat keine wirkung .\n"
     ]
    }
   ],
   "source": [
    "while True:\n",
    "    seq_str = input(\"Type in a source sequence:\")\n",
    "    print(\">> \", seq_str)\n",
    "    if not len(seq_str):\n",
    "        break\n",
    "    #seq = seq_str.strip().lower().split()\n",
    "    seq = tokenize_en(seq_str.strip().lower())\n",
    "    print(seq)\n",
    "\n",
    "    seq_id = [input_vocab.stoi[tok] for tok in seq]\n",
    "\n",
    "    model.eval()\n",
    "    with torch.no_grad():\n",
    "\n",
    "        src_id_seq = Variable(torch.LongTensor(seq_id)).view(1, -1)\n",
    "\n",
    "        src_id_seq = src_id_seq.cuda() if torch.cuda.is_available() else src_id_seq\n",
    "\n",
    "        decoder_outputs = model(src_id_seq, None)\n",
    "        tokens = [step_output[-1].topk(1)[1].item() for step_output in decoder_outputs]\n",
    "        \n",
    "        tokens = np.array(tokens)\n",
    "        idx = np.equal(tokens, 2).nonzero()\n",
    "        if idx[0] :\n",
    "            idx = idx[0][0]\n",
    "            tokens = tokens[0:idx]\n",
    "        \n",
    "        tgt_seq = [output_vocab.itos[tok] for tok in tokens]\n",
    "\n",
    "        print(\"<< \", ' '.join(tgt_seq))\n",
    "\n",
    "print(\"Finished.\")"
   ]
  },
  {
   "cell_type": "code",
   "execution_count": null,
   "metadata": {},
   "outputs": [],
   "source": []
  }
 ],
 "metadata": {
  "kernelspec": {
   "display_name": "Python 3",
   "language": "python",
   "name": "python3"
  },
  "language_info": {
   "codemirror_mode": {
    "name": "ipython",
    "version": 3
   },
   "file_extension": ".py",
   "mimetype": "text/x-python",
   "name": "python",
   "nbconvert_exporter": "python",
   "pygments_lexer": "ipython3",
   "version": "3.6.4"
  }
 },
 "nbformat": 4,
 "nbformat_minor": 2
}
